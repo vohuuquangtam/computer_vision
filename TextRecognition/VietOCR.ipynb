{
  "nbformat": 4,
  "nbformat_minor": 0,
  "metadata": {
    "colab": {
      "name": "VietOCR.ipynb",
      "provenance": [],
      "collapsed_sections": []
    },
    "kernelspec": {
      "name": "python3",
      "display_name": "Python 3"
    },
    "accelerator": "GPU",
    "widgets": {
      "application/vnd.jupyter.widget-state+json": {
        "5a70b3e693fc4c9ba50f5c1450a21b59": {
          "model_module": "@jupyter-widgets/controls",
          "model_name": "HBoxModel",
          "state": {
            "_view_name": "HBoxView",
            "_dom_classes": [],
            "_model_name": "HBoxModel",
            "_view_module": "@jupyter-widgets/controls",
            "_model_module_version": "1.5.0",
            "_view_count": null,
            "_view_module_version": "1.5.0",
            "box_style": "",
            "layout": "IPY_MODEL_f28bde77e6064a2b8a12d7bf6770646c",
            "_model_module": "@jupyter-widgets/controls",
            "children": [
              "IPY_MODEL_a8cb82f58e8c4a4a8f43828d26d75d62",
              "IPY_MODEL_dcc47e7a6cb94a6f8096408fd010a2ac"
            ]
          }
        },
        "f28bde77e6064a2b8a12d7bf6770646c": {
          "model_module": "@jupyter-widgets/base",
          "model_name": "LayoutModel",
          "state": {
            "_view_name": "LayoutView",
            "grid_template_rows": null,
            "right": null,
            "justify_content": null,
            "_view_module": "@jupyter-widgets/base",
            "overflow": null,
            "_model_module_version": "1.2.0",
            "_view_count": null,
            "flex_flow": null,
            "width": null,
            "min_width": null,
            "border": null,
            "align_items": null,
            "bottom": null,
            "_model_module": "@jupyter-widgets/base",
            "top": null,
            "grid_column": null,
            "overflow_y": null,
            "overflow_x": null,
            "grid_auto_flow": null,
            "grid_area": null,
            "grid_template_columns": null,
            "flex": null,
            "_model_name": "LayoutModel",
            "justify_items": null,
            "grid_row": null,
            "max_height": null,
            "align_content": null,
            "visibility": null,
            "align_self": null,
            "height": null,
            "min_height": null,
            "padding": null,
            "grid_auto_rows": null,
            "grid_gap": null,
            "max_width": null,
            "order": null,
            "_view_module_version": "1.2.0",
            "grid_template_areas": null,
            "object_position": null,
            "object_fit": null,
            "grid_auto_columns": null,
            "margin": null,
            "display": null,
            "left": null
          }
        },
        "a8cb82f58e8c4a4a8f43828d26d75d62": {
          "model_module": "@jupyter-widgets/controls",
          "model_name": "FloatProgressModel",
          "state": {
            "_view_name": "ProgressView",
            "style": "IPY_MODEL_bd06939037ee474e8fe56a6ae08b985c",
            "_dom_classes": [],
            "description": "100%",
            "_model_name": "FloatProgressModel",
            "bar_style": "success",
            "max": 574769405,
            "_view_module": "@jupyter-widgets/controls",
            "_model_module_version": "1.5.0",
            "value": 574769405,
            "_view_count": null,
            "_view_module_version": "1.5.0",
            "orientation": "horizontal",
            "min": 0,
            "description_tooltip": null,
            "_model_module": "@jupyter-widgets/controls",
            "layout": "IPY_MODEL_21fda03cf7c9407b9249f32ece569743"
          }
        },
        "dcc47e7a6cb94a6f8096408fd010a2ac": {
          "model_module": "@jupyter-widgets/controls",
          "model_name": "HTMLModel",
          "state": {
            "_view_name": "HTMLView",
            "style": "IPY_MODEL_fcf6e9c66fec4d9ebdc52a640dd4f498",
            "_dom_classes": [],
            "description": "",
            "_model_name": "HTMLModel",
            "placeholder": "​",
            "_view_module": "@jupyter-widgets/controls",
            "_model_module_version": "1.5.0",
            "value": " 548M/548M [00:02&lt;00:00, 209MB/s]",
            "_view_count": null,
            "_view_module_version": "1.5.0",
            "description_tooltip": null,
            "_model_module": "@jupyter-widgets/controls",
            "layout": "IPY_MODEL_f75c65d59ba6459387561017ec48bcfe"
          }
        },
        "bd06939037ee474e8fe56a6ae08b985c": {
          "model_module": "@jupyter-widgets/controls",
          "model_name": "ProgressStyleModel",
          "state": {
            "_view_name": "StyleView",
            "_model_name": "ProgressStyleModel",
            "description_width": "initial",
            "_view_module": "@jupyter-widgets/base",
            "_model_module_version": "1.5.0",
            "_view_count": null,
            "_view_module_version": "1.2.0",
            "bar_color": null,
            "_model_module": "@jupyter-widgets/controls"
          }
        },
        "21fda03cf7c9407b9249f32ece569743": {
          "model_module": "@jupyter-widgets/base",
          "model_name": "LayoutModel",
          "state": {
            "_view_name": "LayoutView",
            "grid_template_rows": null,
            "right": null,
            "justify_content": null,
            "_view_module": "@jupyter-widgets/base",
            "overflow": null,
            "_model_module_version": "1.2.0",
            "_view_count": null,
            "flex_flow": null,
            "width": null,
            "min_width": null,
            "border": null,
            "align_items": null,
            "bottom": null,
            "_model_module": "@jupyter-widgets/base",
            "top": null,
            "grid_column": null,
            "overflow_y": null,
            "overflow_x": null,
            "grid_auto_flow": null,
            "grid_area": null,
            "grid_template_columns": null,
            "flex": null,
            "_model_name": "LayoutModel",
            "justify_items": null,
            "grid_row": null,
            "max_height": null,
            "align_content": null,
            "visibility": null,
            "align_self": null,
            "height": null,
            "min_height": null,
            "padding": null,
            "grid_auto_rows": null,
            "grid_gap": null,
            "max_width": null,
            "order": null,
            "_view_module_version": "1.2.0",
            "grid_template_areas": null,
            "object_position": null,
            "object_fit": null,
            "grid_auto_columns": null,
            "margin": null,
            "display": null,
            "left": null
          }
        },
        "fcf6e9c66fec4d9ebdc52a640dd4f498": {
          "model_module": "@jupyter-widgets/controls",
          "model_name": "DescriptionStyleModel",
          "state": {
            "_view_name": "StyleView",
            "_model_name": "DescriptionStyleModel",
            "description_width": "",
            "_view_module": "@jupyter-widgets/base",
            "_model_module_version": "1.5.0",
            "_view_count": null,
            "_view_module_version": "1.2.0",
            "_model_module": "@jupyter-widgets/controls"
          }
        },
        "f75c65d59ba6459387561017ec48bcfe": {
          "model_module": "@jupyter-widgets/base",
          "model_name": "LayoutModel",
          "state": {
            "_view_name": "LayoutView",
            "grid_template_rows": null,
            "right": null,
            "justify_content": null,
            "_view_module": "@jupyter-widgets/base",
            "overflow": null,
            "_model_module_version": "1.2.0",
            "_view_count": null,
            "flex_flow": null,
            "width": null,
            "min_width": null,
            "border": null,
            "align_items": null,
            "bottom": null,
            "_model_module": "@jupyter-widgets/base",
            "top": null,
            "grid_column": null,
            "overflow_y": null,
            "overflow_x": null,
            "grid_auto_flow": null,
            "grid_area": null,
            "grid_template_columns": null,
            "flex": null,
            "_model_name": "LayoutModel",
            "justify_items": null,
            "grid_row": null,
            "max_height": null,
            "align_content": null,
            "visibility": null,
            "align_self": null,
            "height": null,
            "min_height": null,
            "padding": null,
            "grid_auto_rows": null,
            "grid_gap": null,
            "max_width": null,
            "order": null,
            "_view_module_version": "1.2.0",
            "grid_template_areas": null,
            "object_position": null,
            "object_fit": null,
            "grid_auto_columns": null,
            "margin": null,
            "display": null,
            "left": null
          }
        }
      }
    }
  },
  "cells": [
    {
      "cell_type": "code",
      "metadata": {
        "id": "LWcRUkGNqWpY",
        "colab_type": "code",
        "colab": {
          "base_uri": "https://localhost:8080/",
          "height": 122
        },
        "outputId": "1fca5ca3-2f4e-4e49-9168-bd8e0a6f2309"
      },
      "source": [
        "from google.colab import drive\n",
        "drive.mount('/content/drive')"
      ],
      "execution_count": null,
      "outputs": [
        {
          "output_type": "stream",
          "text": [
            "Go to this URL in a browser: https://accounts.google.com/o/oauth2/auth?client_id=947318989803-6bn6qk8qdgf4n4g3pfee6491hc0brc4i.apps.googleusercontent.com&redirect_uri=urn%3aietf%3awg%3aoauth%3a2.0%3aoob&scope=email%20https%3a%2f%2fwww.googleapis.com%2fauth%2fdocs.test%20https%3a%2f%2fwww.googleapis.com%2fauth%2fdrive%20https%3a%2f%2fwww.googleapis.com%2fauth%2fdrive.photos.readonly%20https%3a%2f%2fwww.googleapis.com%2fauth%2fpeopleapi.readonly&response_type=code\n",
            "\n",
            "Enter your authorization code:\n",
            "4/4AHnfvnDsNrX-R7D_nEPKdvSXDs_Xx3XO0Cz4L2ZOAPJ3dzjyy_o_lk\n",
            "Mounted at /content/drive\n"
          ],
          "name": "stdout"
        }
      ]
    },
    {
      "cell_type": "code",
      "metadata": {
        "id": "cD9tlK2y5TJb",
        "colab_type": "code",
        "colab": {
          "base_uri": "https://localhost:8080/",
          "height": 34
        },
        "outputId": "fc99a121-7c73-440b-aead-f745456810b1"
      },
      "source": [
        "%cd /content/drive/My\\ Drive/VietOCR"
      ],
      "execution_count": null,
      "outputs": [
        {
          "output_type": "stream",
          "text": [
            "/content/drive/My Drive/VietOCR\n"
          ],
          "name": "stdout"
        }
      ]
    },
    {
      "cell_type": "code",
      "metadata": {
        "id": "wSGlMF_68PGn",
        "colab_type": "code",
        "colab": {
          "base_uri": "https://localhost:8080/",
          "height": 357
        },
        "outputId": "70978e5b-7eb5-4565-a453-96e6aab36619"
      },
      "source": [
        "!nvidia-smi"
      ],
      "execution_count": null,
      "outputs": [
        {
          "output_type": "stream",
          "text": [
            "Fri Sep 11 02:37:52 2020       \n",
            "+-----------------------------------------------------------------------------+\n",
            "| NVIDIA-SMI 450.66       Driver Version: 418.67       CUDA Version: 10.1     |\n",
            "|-------------------------------+----------------------+----------------------+\n",
            "| GPU  Name        Persistence-M| Bus-Id        Disp.A | Volatile Uncorr. ECC |\n",
            "| Fan  Temp  Perf  Pwr:Usage/Cap|         Memory-Usage | GPU-Util  Compute M. |\n",
            "|                               |                      |               MIG M. |\n",
            "|===============================+======================+======================|\n",
            "|   0  Tesla T4            Off  | 00000000:00:04.0 Off |                    0 |\n",
            "| N/A   78C    P0    34W /  70W |   6797MiB / 15079MiB |      0%      Default |\n",
            "|                               |                      |                 ERR! |\n",
            "+-------------------------------+----------------------+----------------------+\n",
            "                                                                               \n",
            "+-----------------------------------------------------------------------------+\n",
            "| Processes:                                                                  |\n",
            "|  GPU   GI   CI        PID   Type   Process name                  GPU Memory |\n",
            "|        ID   ID                                                   Usage      |\n",
            "|=============================================================================|\n",
            "|  No running processes found                                                 |\n",
            "+-----------------------------------------------------------------------------+\n"
          ],
          "name": "stdout"
        }
      ]
    },
    {
      "cell_type": "code",
      "metadata": {
        "id": "MtCeJOVHDKnn",
        "colab_type": "code",
        "colab": {
          "base_uri": "https://localhost:8080/",
          "height": 34
        },
        "outputId": "f17c5303-68fb-4203-b7ae-3331b249ce5b"
      },
      "source": [
        "%cd data"
      ],
      "execution_count": null,
      "outputs": [
        {
          "output_type": "stream",
          "text": [
            "/content/drive/My Drive/VietOCR/data\n"
          ],
          "name": "stdout"
        }
      ]
    },
    {
      "cell_type": "code",
      "metadata": {
        "id": "TpR8snIVZmxW",
        "colab_type": "code",
        "colab": {}
      },
      "source": [
        "!unzip data.zip"
      ],
      "execution_count": null,
      "outputs": []
    },
    {
      "cell_type": "code",
      "metadata": {
        "id": "XekLKoX9hDGi",
        "colab_type": "code",
        "colab": {}
      },
      "source": [
        "!unzip test.zip"
      ],
      "execution_count": null,
      "outputs": []
    },
    {
      "cell_type": "code",
      "metadata": {
        "id": "HebRrFgL4rVt",
        "colab_type": "code",
        "colab": {}
      },
      "source": [
        "! pip install --quiet vietocr==0.1.9"
      ],
      "execution_count": null,
      "outputs": []
    },
    {
      "cell_type": "code",
      "metadata": {
        "id": "TFn3AViw5PwE",
        "colab_type": "code",
        "colab": {}
      },
      "source": [
        "import matplotlib.pyplot as plt\n",
        "from PIL import Image\n",
        "\n",
        "from vietocr.tool.predictor import Predictor\n",
        "from vietocr.tool.config import Cfg\n",
        "from pathlib import Path"
      ],
      "execution_count": null,
      "outputs": []
    },
    {
      "cell_type": "code",
      "metadata": {
        "id": "niii5xDZV4Eu",
        "colab_type": "code",
        "colab": {
          "base_uri": "https://localhost:8080/",
          "height": 34
        },
        "outputId": "b46d9093-82f8-4590-9a74-479677141603"
      },
      "source": [
        "%cd .."
      ],
      "execution_count": null,
      "outputs": [
        {
          "output_type": "stream",
          "text": [
            "/content/drive/My Drive/VietOCR\n"
          ],
          "name": "stdout"
        }
      ]
    },
    {
      "cell_type": "code",
      "metadata": {
        "id": "aBvuv0N6_QA1",
        "colab_type": "code",
        "colab": {
          "base_uri": "https://localhost:8080/",
          "height": 51
        },
        "outputId": "87970571-2090-4f45-b427-c79c4a646635"
      },
      "source": [
        "train_path = Path('./data/data/')\n",
        "test_path = Path('./data/test/')\n",
        "\n",
        "train_img_path = [str(img_path) for img_path in train_path.glob(\"*.jpeg\")]\n",
        "test_img_path = [str(img_path) for img_path in test_path.glob(\"*.jpeg\")]\n",
        "print('Number of train data: ', len(train_img_path))\n",
        "print('Number of test data: ', len(test_img_path))"
      ],
      "execution_count": null,
      "outputs": [
        {
          "output_type": "stream",
          "text": [
            "Number of train data:  33638\n",
            "Number of test data:  7309\n"
          ],
          "name": "stdout"
        }
      ]
    },
    {
      "cell_type": "code",
      "metadata": {
        "id": "keD_fMwp5qCp",
        "colab_type": "code",
        "colab": {}
      },
      "source": [
        "config = Cfg.load_config_from_name('vgg_transformer')"
      ],
      "execution_count": null,
      "outputs": []
    },
    {
      "cell_type": "code",
      "metadata": {
        "id": "_3Cm3sBa5t2N",
        "colab_type": "code",
        "colab": {}
      },
      "source": [
        "# config['weights'] = './weights/transformerocr.pth'\n",
        "config['weights'] = 'https://drive.google.com/uc?id=13327Y1tz1ohsm5YZMyXVMPIOjoOA0OaA'\n",
        "config['device'] = 'cuda:0'\n",
        "config['predictor']['beamsearch']=False"
      ],
      "execution_count": null,
      "outputs": []
    },
    {
      "cell_type": "code",
      "metadata": {
        "id": "2RmPa5wc50rV",
        "colab_type": "code",
        "colab": {
          "base_uri": "https://localhost:8080/",
          "height": 168,
          "referenced_widgets": [
            "5a70b3e693fc4c9ba50f5c1450a21b59",
            "f28bde77e6064a2b8a12d7bf6770646c",
            "a8cb82f58e8c4a4a8f43828d26d75d62",
            "dcc47e7a6cb94a6f8096408fd010a2ac",
            "bd06939037ee474e8fe56a6ae08b985c",
            "21fda03cf7c9407b9249f32ece569743",
            "fcf6e9c66fec4d9ebdc52a640dd4f498",
            "f75c65d59ba6459387561017ec48bcfe"
          ]
        },
        "outputId": "570ac9e6-5d1c-4c18-dcc7-4ae66acf1a2f"
      },
      "source": [
        "detector = Predictor(config)"
      ],
      "execution_count": null,
      "outputs": [
        {
          "output_type": "stream",
          "text": [
            "Downloading: \"https://download.pytorch.org/models/vgg19_bn-c79401a0.pth\" to /root/.cache/torch/hub/checkpoints/vgg19_bn-c79401a0.pth\n"
          ],
          "name": "stderr"
        },
        {
          "output_type": "display_data",
          "data": {
            "application/vnd.jupyter.widget-view+json": {
              "model_id": "5a70b3e693fc4c9ba50f5c1450a21b59",
              "version_minor": 0,
              "version_major": 2
            },
            "text/plain": [
              "HBox(children=(FloatProgress(value=0.0, max=574769405.0), HTML(value='')))"
            ]
          },
          "metadata": {
            "tags": []
          }
        },
        {
          "output_type": "stream",
          "text": [
            "\n"
          ],
          "name": "stdout"
        },
        {
          "output_type": "stream",
          "text": [
            "Cached Downloading: /root/.cache/gdown/https-COLON--SLASH--SLASH-drive.google.com-SLASH-uc-QUESTION-id-EQUAL-13327Y1tz1ohsm5YZMyXVMPIOjoOA0OaA\n",
            "Downloading...\n",
            "From: https://drive.google.com/uc?id=13327Y1tz1ohsm5YZMyXVMPIOjoOA0OaA\n",
            "To: /root/.cache/gdown/tmptxyck7nn/dl\n",
            "152MB [00:01, 102MB/s] \n"
          ],
          "name": "stderr"
        }
      ]
    },
    {
      "cell_type": "code",
      "metadata": {
        "id": "Vb454U0054l9",
        "colab_type": "code",
        "colab": {
          "base_uri": "https://localhost:8080/",
          "height": 85
        },
        "outputId": "531ccfbb-1ac2-4a27-d3cc-136d73f9b0c0"
      },
      "source": [
        "! gdown --id 1uMVd6EBjY4Q0G2IkU5iMOQ34X0bysm0b\n",
        "! unzip  -qq -o sample.zip"
      ],
      "execution_count": null,
      "outputs": [
        {
          "output_type": "stream",
          "text": [
            "Downloading...\n",
            "From: https://drive.google.com/uc?id=1uMVd6EBjY4Q0G2IkU5iMOQ34X0bysm0b\n",
            "To: /content/drive/My Drive/VietOCR/sample.zip\n",
            "\r  0% 0.00/306k [00:00<?, ?B/s]\r100% 306k/306k [00:00<00:00, 95.8MB/s]\n"
          ],
          "name": "stdout"
        }
      ]
    },
    {
      "cell_type": "code",
      "metadata": {
        "id": "LDrxMDil6MG1",
        "colab_type": "code",
        "colab": {
          "base_uri": "https://localhost:8080/",
          "height": 102
        },
        "outputId": "4ae818d3-9d03-4cc5-af80-6f662311857b"
      },
      "source": [
        "! ls sample | shuf |head -n 5"
      ],
      "execution_count": null,
      "outputs": [
        {
          "output_type": "stream",
          "text": [
            "4448.jpg\n",
            "2019_10_04_tran_quang_dung_201910041118369_29.jpg\n",
            "037188000873.jpeg\n",
            "465_Ecclesiastics_24500.jpg\n",
            "deskewed-2019_12_17_dinh_ngoc_anh_201912171124175_6.jpg\n"
          ],
          "name": "stdout"
        }
      ]
    },
    {
      "cell_type": "code",
      "metadata": {
        "id": "E_NG8omY8N5H",
        "colab_type": "code",
        "colab": {
          "base_uri": "https://localhost:8080/",
          "height": 97
        },
        "outputId": "d59f84d6-662d-40c0-a13b-e63df78098bb"
      },
      "source": [
        "\n",
        "img = './sample/deskewed-2019_12_17_dinh_ngoc_anh_201912171124175_6.jpg'\n",
        "img = Image.open(img)\n",
        "plt.imshow(img)\n",
        "s = detector.predict(img)\n",
        "s"
      ],
      "execution_count": null,
      "outputs": [
        {
          "output_type": "execute_result",
          "data": {
            "application/vnd.google.colaboratory.intrinsic+json": {
              "type": "string"
            },
            "text/plain": [
              "'Thanh Xuân - Hà Nội - Việt Nam'"
            ]
          },
          "metadata": {
            "tags": []
          },
          "execution_count": 13
        },
        {
          "output_type": "display_data",
          "data": {
            "image/png": "[encoded data removed]",
            "text/plain": [
              "<Figure size 432x288 with 1 Axes>"
            ]
          },
          "metadata": {
            "tags": [],
            "needs_background": "light"
          }
        }
      ]
    },
    {
      "cell_type": "code",
      "metadata": {
        "id": "njgC_ZG88YLt",
        "colab_type": "code",
        "colab": {
          "base_uri": "https://localhost:8080/",
          "height": 85
        },
        "outputId": "02201530-ecbf-488f-f393-1440469b58f4"
      },
      "source": [
        "# download pretrained weighgt\n",
        "\n",
        "# ! gdown https://drive.google.com/uc?id=1W2PZC94sjpA1lS7FN33VoIVleSnnWOaA\n",
        "!gdown https://drive.google.com/uc?id=13327Y1tz1ohsm5YZMyXVMPIOjoOA0OaA"
      ],
      "execution_count": null,
      "outputs": [
        {
          "output_type": "stream",
          "text": [
            "Downloading...\n",
            "From: https://drive.google.com/uc?id=13327Y1tz1ohsm5YZMyXVMPIOjoOA0OaA\n",
            "To: /content/drive/My Drive/VietOCR/transformerocr.pth\n",
            "152MB [00:00, 164MB/s]\n"
          ],
          "name": "stdout"
        }
      ]
    },
    {
      "cell_type": "code",
      "metadata": {
        "id": "pyFUeI1AzQ4D",
        "colab_type": "code",
        "colab": {}
      },
      "source": [
        "!unzip data.zip"
      ],
      "execution_count": null,
      "outputs": []
    },
    {
      "cell_type": "code",
      "metadata": {
        "id": "3umQGBZ6T1p1",
        "colab_type": "code",
        "colab": {
          "base_uri": "https://localhost:8080/",
          "height": 51
        },
        "outputId": "ce14a290-5d7c-478f-b5f8-73c638362621"
      },
      "source": [
        "%cd data/\n",
        "from pathlib import Path\n",
        "import os\n",
        "\n",
        "\n",
        "train_data_path = Path('./data/')\n",
        "test_data_path = Path('./test/')\n",
        "\n",
        "with open('train_annotation.txt', 'w') as file:\n",
        "    for img_path in train_data_path.glob(\"*.jpeg\"):\n",
        "        name = img_path.name[:-4]\n",
        "        true_label = name.split('_')[0]  # [string_label]_[idx].jpeg\n",
        "        true_label = true_label.strip()\n",
        "        file.write(str(img_path) + '\\t' + true_label + '\\n')\n",
        "\n",
        "with open('test_annotation.txt', 'w') as file:\n",
        "    for img_path in test_data_path.glob(\"*.jpeg\"):\n",
        "        name = img_path.name[:-4]\n",
        "        true_label = name.split('_')[0]  # [string_label]_[idx].jpeg\n",
        "        true_label = true_label.strip()\n",
        "        file.write(str(img_path) + '\\t' + true_label + '\\n')\n",
        "%cd .."
      ],
      "execution_count": null,
      "outputs": [
        {
          "output_type": "stream",
          "text": [
            "/content/drive/My Drive/VietOCR/data\n",
            "/content/drive/My Drive/VietOCR\n"
          ],
          "name": "stdout"
        }
      ]
    },
    {
      "cell_type": "markdown",
      "metadata": {
        "id": "qp10LdzjHjxm",
        "colab_type": "text"
      },
      "source": [
        "**Train model**"
      ]
    },
    {
      "cell_type": "code",
      "metadata": {
        "id": "yYHrFMm7-kzd",
        "colab_type": "code",
        "colab": {}
      },
      "source": [
        "from vietocr.tool.config import Cfg\n",
        "from vietocr.model.trainer import Trainer\n"
      ],
      "execution_count": null,
      "outputs": []
    },
    {
      "cell_type": "code",
      "metadata": {
        "id": "lH-PCvJqHs7f",
        "colab_type": "code",
        "colab": {}
      },
      "source": [
        "config = Cfg.load_config_from_name('vgg_transformer')"
      ],
      "execution_count": null,
      "outputs": []
    },
    {
      "cell_type": "code",
      "metadata": {
        "id": "RViaMxQbH2v2",
        "colab_type": "code",
        "colab": {}
      },
      "source": [
        "dataset_params = {\n",
        "    'name':'hw',\n",
        "    'data_root':'./data/',\n",
        "    'train_annotation':'train_annotation.txt',\n",
        "    'valid_annotation':'test_annotation.txt'\n",
        "}\n",
        "\n",
        "params = {\n",
        "         'print_every':200,\n",
        "         'valid_every':15*200,\n",
        "          'iters':50000,\n",
        "          'checkpoint':'./checkpoint/transformerocr_checkpoint.pth',    \n",
        "          'export':'./weights/transformerocr.pth',\n",
        "          'metrics': 10000,\n",
        "          'batch_size': 64\n",
        "         }\n",
        "\n",
        "params_opt = {\n",
        "              'init_lr': 0.01,\n",
        "              'n_warmup_steps': 4000\n",
        "              }\n",
        "\n",
        "config['trainer'].update(params)\n",
        "config['dataset'].update(dataset_params)\n",
        "config['device'] = 'cuda:0'"
      ],
      "execution_count": null,
      "outputs": []
    },
    {
      "cell_type": "code",
      "metadata": {
        "id": "eKgrG-TGH5hc",
        "colab_type": "code",
        "colab": {
          "base_uri": "https://localhost:8080/",
          "height": 666
        },
        "outputId": "a376630c-5ff5-480c-81be-bf57a8c29492"
      },
      "source": [
        "config"
      ],
      "execution_count": null,
      "outputs": [
        {
          "output_type": "execute_result",
          "data": {
            "text/plain": [
              "{'backbone': 'vgg19_bn',\n",
              " 'cnn': {'hidden': 256,\n",
              "  'ks': [[2, 2], [2, 2], [2, 1], [2, 1], [1, 1]],\n",
              "  'ss': [[2, 2], [2, 2], [2, 1], [2, 1], [1, 1]]},\n",
              " 'dataloader': {'num_workers': 3, 'pin_memory': True},\n",
              " 'dataset': {'data_root': './data/',\n",
              "  'image_height': 32,\n",
              "  'image_max_width': 512,\n",
              "  'image_min_width': 32,\n",
              "  'name': 'hw',\n",
              "  'train_annotation': 'train_annotation.txt',\n",
              "  'valid_annotation': 'test_annotation.txt'},\n",
              " 'device': 'cuda:0',\n",
              " 'optimizer': {'init_lr': 0.1, 'n_warmup_steps': 4000},\n",
              " 'predictor': {'beamsearch': False},\n",
              " 'pretrain': {'cached': '/tmp/tranformerorc.pth',\n",
              "  'id_or_url': '13327Y1tz1ohsm5YZMyXVMPIOjoOA0OaA',\n",
              "  'md5': 'fbefa85079ad9001a71eb1bf47a93785'},\n",
              " 'quiet': False,\n",
              " 'trainer': {'batch_size': 64,\n",
              "  'checkpoint': './checkpoint/transformerocr_checkpoint.pth',\n",
              "  'export': './weights/transformerocr.pth',\n",
              "  'iters': 50000,\n",
              "  'log': './train.log',\n",
              "  'metrics': 10000,\n",
              "  'print_every': 200,\n",
              "  'valid_every': 3000},\n",
              " 'transformer': {'d_model': 256,\n",
              "  'dim_feedforward': 2048,\n",
              "  'max_seq_length': 1024,\n",
              "  'nhead': 8,\n",
              "  'num_decoder_layers': 6,\n",
              "  'num_encoder_layers': 6,\n",
              "  'pos_dropout': 0.1,\n",
              "  'trans_dropout': 0.1},\n",
              " 'vocab': 'aAàÀảẢãÃáÁạẠăĂằẰẳẲẵẴắẮặẶâÂầẦẩẨẫẪấẤậẬbBcCdDđĐeEèÈẻẺẽẼéÉẹẸêÊềỀểỂễỄếẾệỆfFgGhHiIìÌỉỈĩĨíÍịỊjJkKlLmMnNoOòÒỏỎõÕóÓọỌôÔồỒổỔỗỖốỐộỘơƠờỜởỞỡỠớỚợỢpPqQrRsStTuUùÙủỦũŨúÚụỤưƯừỪửỬữỮứỨựỰvVwWxXyYỳỲỷỶỹỸýÝỵỴzZ0123456789!\"#$%&\\'()*+,-./:;<=>?@[\\\\]^_`{|}~ ',\n",
              " 'weights': 'https://drive.google.com/uc?id=13327Y1tz1ohsm5YZMyXVMPIOjoOA0OaA'}"
            ]
          },
          "metadata": {
            "tags": []
          },
          "execution_count": 35
        }
      ]
    },
    {
      "cell_type": "code",
      "metadata": {
        "id": "F8fD9Pt7H_p4",
        "colab_type": "code",
        "colab": {
          "base_uri": "https://localhost:8080/",
          "height": 119
        },
        "outputId": "c59e032f-5b7e-4399-96f4-a76f386f78d4"
      },
      "source": [
        "trainer = Trainer(config, pretrained=True)"
      ],
      "execution_count": null,
      "outputs": [
        {
          "output_type": "stream",
          "text": [
            "Computing MD5: /tmp/tranformerorc.pth\n",
            "MD5 matches: /tmp/tranformerorc.pth\n",
            "train_hw exists. Remove folder if you want to create new dataset\n"
          ],
          "name": "stdout"
        },
        {
          "output_type": "stream",
          "text": [
            "train_hw build cluster: 100%|██████████████████████████████| 33637/33637 [00:00<00:00, 72947.30it/s]"
          ],
          "name": "stderr"
        },
        {
          "output_type": "stream",
          "text": [
            "valid_hw exists. Remove folder if you want to create new dataset\n"
          ],
          "name": "stdout"
        },
        {
          "output_type": "stream",
          "text": [
            "\n",
            "valid_hw build cluster: 100%|████████████████████████████████| 7308/7308 [00:00<00:00, 99358.74it/s]\n"
          ],
          "name": "stderr"
        }
      ]
    },
    {
      "cell_type": "code",
      "metadata": {
        "id": "vgzCJ2pPIPWe",
        "colab_type": "code",
        "colab": {
          "base_uri": "https://localhost:8080/",
          "height": 1000
        },
        "outputId": "5ec3cd71-2c3f-4e94-f2ee-b90a300fde2f"
      },
      "source": [
        "trainer.train()"
      ],
      "execution_count": null,
      "outputs": [
        {
          "output_type": "stream",
          "text": [
            "iter: 000200 - train loss: 0.989 - lr: 4.94e-06 - load time: 0.34 - gpu time: 39.60\n",
            "iter: 000400 - train loss: 0.745 - lr: 9.88e-06 - load time: 0.03 - gpu time: 39.58\n",
            "iter: 000600 - train loss: 0.689 - lr: 1.48e-05 - load time: 0.58 - gpu time: 40.50\n",
            "iter: 000800 - train loss: 0.663 - lr: 1.98e-05 - load time: 0.03 - gpu time: 40.24\n",
            "iter: 001000 - train loss: 0.647 - lr: 2.47e-05 - load time: 0.03 - gpu time: 39.51\n",
            "iter: 001200 - train loss: 0.632 - lr: 2.96e-05 - load time: 0.55 - gpu time: 39.09\n",
            "iter: 001400 - train loss: 0.639 - lr: 3.46e-05 - load time: 0.03 - gpu time: 41.48\n",
            "iter: 001600 - train loss: 0.646 - lr: 3.95e-05 - load time: 0.55 - gpu time: 39.39\n",
            "iter: 001800 - train loss: 0.627 - lr: 4.45e-05 - load time: 0.03 - gpu time: 39.49\n",
            "iter: 002000 - train loss: 0.623 - lr: 4.94e-05 - load time: 0.03 - gpu time: 39.58\n",
            "iter: 002200 - train loss: 0.625 - lr: 5.44e-05 - load time: 0.47 - gpu time: 39.41\n",
            "iter: 002400 - train loss: 0.625 - lr: 5.93e-05 - load time: 0.03 - gpu time: 39.46\n",
            "iter: 002600 - train loss: 0.616 - lr: 6.42e-05 - load time: 0.70 - gpu time: 40.40\n",
            "iter: 002800 - train loss: 0.621 - lr: 6.92e-05 - load time: 0.03 - gpu time: 39.98\n",
            "iter: 003000 - train loss: 0.612 - lr: 7.41e-05 - load time: 0.03 - gpu time: 39.35\n",
            "iter: 003000 - valid loss: 0.627 - acc full seq: 0.9346 - acc per char: 0.9818\n",
            "iter: 003200 - train loss: 0.620 - lr: 7.91e-05 - load time: 0.62 - gpu time: 40.39\n",
            "iter: 003400 - train loss: 0.609 - lr: 8.40e-05 - load time: 0.03 - gpu time: 39.60\n",
            "iter: 003600 - train loss: 0.629 - lr: 8.89e-05 - load time: 0.03 - gpu time: 40.19\n",
            "iter: 003800 - train loss: 0.627 - lr: 9.39e-05 - load time: 0.80 - gpu time: 39.83\n",
            "iter: 004000 - train loss: 0.618 - lr: 9.88e-05 - load time: 0.03 - gpu time: 40.18\n",
            "iter: 004200 - train loss: 0.614 - lr: 9.64e-05 - load time: 0.52 - gpu time: 40.10\n",
            "iter: 004400 - train loss: 0.603 - lr: 9.42e-05 - load time: 0.03 - gpu time: 37.90\n",
            "iter: 004600 - train loss: 0.622 - lr: 9.22e-05 - load time: 0.03 - gpu time: 40.88\n",
            "iter: 004800 - train loss: 0.611 - lr: 9.02e-05 - load time: 0.65 - gpu time: 40.26\n",
            "iter: 005000 - train loss: 0.616 - lr: 8.84e-05 - load time: 0.03 - gpu time: 40.12\n",
            "iter: 005200 - train loss: 0.605 - lr: 8.67e-05 - load time: 0.53 - gpu time: 38.85\n",
            "iter: 005400 - train loss: 0.608 - lr: 8.51e-05 - load time: 0.03 - gpu time: 40.00\n",
            "iter: 005600 - train loss: 0.612 - lr: 8.35e-05 - load time: 0.03 - gpu time: 39.04\n",
            "iter: 005800 - train loss: 0.594 - lr: 8.21e-05 - load time: 0.57 - gpu time: 40.36\n",
            "iter: 006000 - train loss: 0.605 - lr: 8.07e-05 - load time: 0.03 - gpu time: 39.34\n",
            "iter: 006000 - valid loss: 0.628 - acc full seq: 0.9447 - acc per char: 0.9835\n",
            "iter: 006200 - train loss: 0.603 - lr: 7.94e-05 - load time: 0.03 - gpu time: 40.21\n",
            "iter: 006400 - train loss: 0.599 - lr: 7.81e-05 - load time: 0.67 - gpu time: 39.22\n",
            "iter: 006600 - train loss: 0.604 - lr: 7.69e-05 - load time: 0.03 - gpu time: 40.04\n",
            "iter: 006800 - train loss: 0.595 - lr: 7.58e-05 - load time: 0.60 - gpu time: 39.36\n",
            "iter: 007000 - train loss: 0.599 - lr: 7.47e-05 - load time: 0.03 - gpu time: 40.18\n",
            "iter: 007200 - train loss: 0.603 - lr: 7.37e-05 - load time: 0.03 - gpu time: 39.89\n",
            "iter: 007400 - train loss: 0.605 - lr: 7.27e-05 - load time: 0.52 - gpu time: 40.81\n",
            "iter: 007600 - train loss: 0.593 - lr: 7.17e-05 - load time: 0.03 - gpu time: 38.47\n",
            "iter: 007800 - train loss: 0.595 - lr: 7.08e-05 - load time: 0.52 - gpu time: 39.58\n",
            "iter: 008000 - train loss: 0.590 - lr: 6.99e-05 - load time: 0.03 - gpu time: 38.36\n",
            "iter: 008200 - train loss: 0.595 - lr: 6.90e-05 - load time: 0.03 - gpu time: 40.22\n",
            "iter: 008400 - train loss: 0.597 - lr: 6.82e-05 - load time: 0.55 - gpu time: 39.86\n",
            "iter: 008600 - train loss: 0.597 - lr: 6.74e-05 - load time: 0.03 - gpu time: 40.27\n",
            "iter: 008800 - train loss: 0.591 - lr: 6.66e-05 - load time: 0.47 - gpu time: 39.11\n",
            "iter: 009000 - train loss: 0.591 - lr: 6.59e-05 - load time: 0.03 - gpu time: 40.88\n",
            "iter: 009000 - valid loss: 0.632 - acc full seq: 0.9246 - acc per char: 0.9855\n",
            "iter: 009200 - train loss: 0.595 - lr: 6.52e-05 - load time: 0.03 - gpu time: 40.20\n",
            "iter: 009400 - train loss: 0.594 - lr: 6.45e-05 - load time: 0.53 - gpu time: 38.81\n",
            "iter: 009600 - train loss: 0.594 - lr: 6.38e-05 - load time: 0.03 - gpu time: 39.38\n",
            "iter: 009800 - train loss: 0.590 - lr: 6.31e-05 - load time: 0.03 - gpu time: 40.90\n",
            "iter: 010000 - train loss: 0.587 - lr: 6.25e-05 - load time: 0.55 - gpu time: 38.61\n",
            "iter: 010200 - train loss: 0.590 - lr: 6.19e-05 - load time: 0.03 - gpu time: 40.45\n",
            "iter: 010400 - train loss: 0.588 - lr: 6.13e-05 - load time: 0.46 - gpu time: 40.50\n",
            "iter: 010600 - train loss: 0.593 - lr: 6.07e-05 - load time: 0.03 - gpu time: 40.32\n",
            "iter: 010800 - train loss: 0.586 - lr: 6.01e-05 - load time: 0.03 - gpu time: 39.60\n",
            "iter: 011000 - train loss: 0.593 - lr: 5.96e-05 - load time: 0.46 - gpu time: 40.46\n",
            "iter: 011200 - train loss: 0.586 - lr: 5.91e-05 - load time: 0.03 - gpu time: 39.19\n",
            "iter: 011400 - train loss: 0.592 - lr: 5.85e-05 - load time: 0.55 - gpu time: 40.65\n",
            "iter: 011600 - train loss: 0.585 - lr: 5.80e-05 - load time: 0.03 - gpu time: 38.89\n",
            "iter: 011800 - train loss: 0.587 - lr: 5.75e-05 - load time: 0.03 - gpu time: 40.39\n",
            "iter: 012000 - train loss: 0.575 - lr: 5.71e-05 - load time: 0.52 - gpu time: 38.65\n",
            "iter: 012000 - valid loss: 0.630 - acc full seq: 0.9423 - acc per char: 0.9841\n",
            "iter: 012200 - train loss: 0.592 - lr: 5.66e-05 - load time: 0.03 - gpu time: 40.29\n",
            "iter: 012400 - train loss: 0.585 - lr: 5.61e-05 - load time: 0.03 - gpu time: 41.42\n",
            "iter: 012600 - train loss: 0.581 - lr: 5.57e-05 - load time: 0.56 - gpu time: 39.24\n",
            "iter: 012800 - train loss: 0.588 - lr: 5.52e-05 - load time: 0.03 - gpu time: 39.72\n",
            "iter: 013000 - train loss: 0.589 - lr: 5.48e-05 - load time: 0.67 - gpu time: 40.70\n",
            "iter: 013200 - train loss: 0.576 - lr: 5.44e-05 - load time: 0.03 - gpu time: 39.35\n",
            "iter: 013400 - train loss: 0.589 - lr: 5.40e-05 - load time: 0.03 - gpu time: 40.06\n",
            "iter: 013600 - train loss: 0.589 - lr: 5.36e-05 - load time: 0.47 - gpu time: 39.72\n",
            "iter: 013800 - train loss: 0.585 - lr: 5.32e-05 - load time: 0.03 - gpu time: 41.46\n",
            "iter: 014000 - train loss: 0.573 - lr: 5.28e-05 - load time: 0.61 - gpu time: 38.49\n",
            "iter: 014200 - train loss: 0.584 - lr: 5.24e-05 - load time: 0.03 - gpu time: 38.98\n",
            "iter: 014400 - train loss: 0.580 - lr: 5.21e-05 - load time: 0.03 - gpu time: 39.58\n",
            "iter: 014600 - train loss: 0.584 - lr: 5.17e-05 - load time: 0.59 - gpu time: 40.33\n",
            "iter: 014800 - train loss: 0.585 - lr: 5.14e-05 - load time: 0.03 - gpu time: 39.72\n",
            "iter: 015000 - train loss: 0.587 - lr: 5.10e-05 - load time: 0.61 - gpu time: 40.27\n",
            "iter: 015000 - valid loss: 0.629 - acc full seq: 0.9497 - acc per char: 0.9844\n",
            "iter: 015200 - train loss: 0.580 - lr: 5.07e-05 - load time: 0.03 - gpu time: 40.98\n",
            "iter: 015400 - train loss: 0.578 - lr: 5.04e-05 - load time: 0.03 - gpu time: 38.93\n",
            "iter: 015600 - train loss: 0.580 - lr: 5.00e-05 - load time: 0.58 - gpu time: 39.58\n",
            "iter: 015800 - train loss: 0.578 - lr: 4.97e-05 - load time: 0.03 - gpu time: 40.06\n",
            "iter: 016000 - train loss: 0.582 - lr: 4.94e-05 - load time: 0.03 - gpu time: 39.72\n",
            "iter: 016200 - train loss: 0.581 - lr: 4.91e-05 - load time: 0.58 - gpu time: 39.97\n",
            "iter: 016400 - train loss: 0.579 - lr: 4.88e-05 - load time: 0.03 - gpu time: 40.08\n",
            "iter: 016600 - train loss: 0.573 - lr: 4.85e-05 - load time: 0.55 - gpu time: 39.89\n",
            "iter: 016800 - train loss: 0.581 - lr: 4.82e-05 - load time: 0.03 - gpu time: 40.19\n",
            "iter: 017000 - train loss: 0.579 - lr: 4.79e-05 - load time: 0.03 - gpu time: 39.68\n",
            "iter: 017200 - train loss: 0.578 - lr: 4.77e-05 - load time: 0.58 - gpu time: 40.22\n",
            "iter: 017400 - train loss: 0.582 - lr: 4.74e-05 - load time: 0.03 - gpu time: 41.12\n",
            "iter: 017600 - train loss: 0.577 - lr: 4.71e-05 - load time: 0.53 - gpu time: 40.31\n",
            "iter: 017800 - train loss: 0.583 - lr: 4.68e-05 - load time: 0.03 - gpu time: 40.40\n",
            "iter: 018000 - train loss: 0.580 - lr: 4.66e-05 - load time: 0.03 - gpu time: 39.49\n",
            "iter: 018000 - valid loss: 0.625 - acc full seq: 0.9527 - acc per char: 0.9841\n",
            "iter: 018200 - train loss: 0.578 - lr: 4.63e-05 - load time: 0.60 - gpu time: 40.95\n",
            "iter: 018400 - train loss: 0.578 - lr: 4.61e-05 - load time: 0.03 - gpu time: 40.07\n",
            "iter: 018600 - train loss: 0.581 - lr: 4.58e-05 - load time: 0.03 - gpu time: 40.26\n",
            "iter: 018800 - train loss: 0.577 - lr: 4.56e-05 - load time: 0.58 - gpu time: 39.70\n",
            "iter: 019000 - train loss: 0.573 - lr: 4.53e-05 - load time: 0.03 - gpu time: 40.51\n",
            "iter: 019200 - train loss: 0.581 - lr: 4.51e-05 - load time: 0.63 - gpu time: 41.33\n",
            "iter: 019400 - train loss: 0.567 - lr: 4.49e-05 - load time: 0.03 - gpu time: 38.92\n",
            "iter: 019600 - train loss: 0.580 - lr: 4.46e-05 - load time: 0.03 - gpu time: 40.63\n",
            "iter: 019800 - train loss: 0.572 - lr: 4.44e-05 - load time: 0.48 - gpu time: 39.89\n",
            "iter: 020000 - train loss: 0.577 - lr: 4.42e-05 - load time: 0.03 - gpu time: 39.86\n",
            "iter: 020200 - train loss: 0.577 - lr: 4.40e-05 - load time: 0.57 - gpu time: 40.35\n",
            "iter: 020400 - train loss: 0.569 - lr: 4.38e-05 - load time: 0.03 - gpu time: 38.90\n",
            "iter: 020600 - train loss: 0.580 - lr: 4.35e-05 - load time: 0.03 - gpu time: 41.64\n",
            "iter: 020800 - train loss: 0.575 - lr: 4.33e-05 - load time: 0.49 - gpu time: 38.89\n",
            "iter: 021000 - train loss: 0.579 - lr: 4.31e-05 - load time: 0.03 - gpu time: 39.39\n",
            "iter: 021000 - valid loss: 0.626 - acc full seq: 0.9556 - acc per char: 0.9831\n",
            "iter: 021200 - train loss: 0.577 - lr: 4.29e-05 - load time: 0.60 - gpu time: 42.57\n",
            "iter: 021400 - train loss: 0.573 - lr: 4.27e-05 - load time: 0.03 - gpu time: 39.22\n",
            "iter: 021600 - train loss: 0.578 - lr: 4.25e-05 - load time: 0.03 - gpu time: 42.01\n",
            "iter: 021800 - train loss: 0.575 - lr: 4.23e-05 - load time: 0.51 - gpu time: 39.39\n",
            "iter: 022000 - train loss: 0.578 - lr: 4.21e-05 - load time: 0.03 - gpu time: 40.88\n",
            "iter: 022200 - train loss: 0.575 - lr: 4.19e-05 - load time: 0.03 - gpu time: 38.98\n",
            "iter: 022400 - train loss: 0.571 - lr: 4.18e-05 - load time: 0.60 - gpu time: 39.48\n",
            "iter: 022600 - train loss: 0.572 - lr: 4.16e-05 - load time: 0.03 - gpu time: 39.18\n",
            "iter: 022800 - train loss: 0.576 - lr: 4.14e-05 - load time: 0.43 - gpu time: 40.77\n",
            "iter: 023000 - train loss: 0.575 - lr: 4.12e-05 - load time: 0.03 - gpu time: 39.45\n",
            "iter: 023200 - train loss: 0.579 - lr: 4.10e-05 - load time: 0.03 - gpu time: 40.57\n",
            "iter: 023400 - train loss: 0.571 - lr: 4.09e-05 - load time: 0.53 - gpu time: 38.34\n",
            "iter: 023600 - train loss: 0.573 - lr: 4.07e-05 - load time: 0.03 - gpu time: 40.50\n",
            "iter: 023800 - train loss: 0.583 - lr: 4.05e-05 - load time: 0.52 - gpu time: 40.14\n",
            "iter: 024000 - train loss: 0.574 - lr: 4.03e-05 - load time: 0.03 - gpu time: 39.12\n",
            "iter: 024000 - valid loss: 0.627 - acc full seq: 0.9566 - acc per char: 0.9838\n",
            "iter: 024200 - train loss: 0.574 - lr: 4.02e-05 - load time: 0.03 - gpu time: 41.24\n",
            "iter: 024400 - train loss: 0.578 - lr: 4.00e-05 - load time: 0.46 - gpu time: 40.68\n",
            "iter: 024600 - train loss: 0.572 - lr: 3.98e-05 - load time: 0.03 - gpu time: 39.41\n",
            "iter: 024800 - train loss: 0.575 - lr: 3.97e-05 - load time: 0.03 - gpu time: 39.74\n",
            "iter: 025000 - train loss: 0.577 - lr: 3.95e-05 - load time: 0.49 - gpu time: 40.18\n",
            "iter: 025200 - train loss: 0.574 - lr: 3.94e-05 - load time: 0.03 - gpu time: 40.41\n",
            "iter: 025400 - train loss: 0.571 - lr: 3.92e-05 - load time: 0.52 - gpu time: 39.85\n",
            "iter: 025600 - train loss: 0.575 - lr: 3.91e-05 - load time: 0.03 - gpu time: 40.57\n",
            "iter: 025800 - train loss: 0.571 - lr: 3.89e-05 - load time: 0.03 - gpu time: 39.06\n",
            "iter: 026000 - train loss: 0.570 - lr: 3.88e-05 - load time: 0.55 - gpu time: 39.70\n",
            "iter: 026200 - train loss: 0.568 - lr: 3.86e-05 - load time: 0.03 - gpu time: 40.96\n",
            "iter: 026400 - train loss: 0.573 - lr: 3.85e-05 - load time: 0.58 - gpu time: 39.82\n",
            "iter: 026600 - train loss: 0.573 - lr: 3.83e-05 - load time: 0.03 - gpu time: 40.98\n",
            "iter: 026800 - train loss: 0.571 - lr: 3.82e-05 - load time: 0.03 - gpu time: 39.00\n",
            "iter: 027000 - train loss: 0.577 - lr: 3.80e-05 - load time: 0.53 - gpu time: 39.70\n",
            "iter: 027000 - valid loss: 0.628 - acc full seq: 0.9550 - acc per char: 0.9828\n",
            "iter: 027200 - train loss: 0.573 - lr: 3.79e-05 - load time: 0.03 - gpu time: 40.28\n",
            "iter: 027400 - train loss: 0.575 - lr: 3.78e-05 - load time: 0.03 - gpu time: 39.94\n",
            "iter: 027600 - train loss: 0.567 - lr: 3.76e-05 - load time: 0.61 - gpu time: 38.52\n",
            "iter: 027800 - train loss: 0.584 - lr: 3.75e-05 - load time: 0.03 - gpu time: 41.02\n",
            "iter: 028000 - train loss: 0.566 - lr: 3.74e-05 - load time: 0.58 - gpu time: 39.17\n",
            "iter: 028200 - train loss: 0.583 - lr: 3.72e-05 - load time: 0.03 - gpu time: 40.10\n",
            "iter: 028400 - train loss: 0.570 - lr: 3.71e-05 - load time: 0.03 - gpu time: 40.33\n",
            "iter: 028600 - train loss: 0.573 - lr: 3.70e-05 - load time: 0.58 - gpu time: 39.31\n",
            "iter: 028800 - train loss: 0.573 - lr: 3.68e-05 - load time: 0.03 - gpu time: 40.83\n",
            "iter: 029000 - train loss: 0.567 - lr: 3.67e-05 - load time: 0.53 - gpu time: 38.51\n",
            "iter: 029200 - train loss: 0.574 - lr: 3.66e-05 - load time: 0.03 - gpu time: 40.19\n",
            "iter: 029400 - train loss: 0.572 - lr: 3.65e-05 - load time: 0.03 - gpu time: 39.40\n",
            "iter: 029600 - train loss: 0.574 - lr: 3.63e-05 - load time: 0.54 - gpu time: 40.58\n",
            "iter: 029800 - train loss: 0.572 - lr: 3.62e-05 - load time: 0.03 - gpu time: 39.42\n",
            "iter: 030000 - train loss: 0.570 - lr: 3.61e-05 - load time: 0.50 - gpu time: 38.96\n",
            "iter: 030000 - valid loss: 0.629 - acc full seq: 0.9569 - acc per char: 0.9830\n",
            "iter: 030200 - train loss: 0.576 - lr: 3.60e-05 - load time: 0.03 - gpu time: 41.38\n",
            "iter: 030400 - train loss: 0.568 - lr: 3.58e-05 - load time: 0.03 - gpu time: 38.71\n",
            "iter: 030600 - train loss: 0.573 - lr: 3.57e-05 - load time: 0.50 - gpu time: 40.06\n",
            "iter: 030800 - train loss: 0.570 - lr: 3.56e-05 - load time: 0.03 - gpu time: 39.50\n",
            "iter: 031000 - train loss: 0.571 - lr: 3.55e-05 - load time: 0.03 - gpu time: 39.73\n",
            "iter: 031200 - train loss: 0.569 - lr: 3.54e-05 - load time: 0.56 - gpu time: 39.83\n",
            "iter: 031400 - train loss: 0.573 - lr: 3.53e-05 - load time: 0.03 - gpu time: 39.65\n",
            "iter: 031600 - train loss: 0.571 - lr: 3.52e-05 - load time: 0.57 - gpu time: 39.35\n",
            "iter: 031800 - train loss: 0.570 - lr: 3.50e-05 - load time: 0.03 - gpu time: 39.90\n",
            "iter: 032000 - train loss: 0.570 - lr: 3.49e-05 - load time: 0.03 - gpu time: 39.58\n",
            "iter: 032200 - train loss: 0.574 - lr: 3.48e-05 - load time: 0.55 - gpu time: 39.42\n",
            "iter: 032400 - train loss: 0.561 - lr: 3.47e-05 - load time: 0.03 - gpu time: 38.89\n",
            "iter: 032600 - train loss: 0.575 - lr: 3.46e-05 - load time: 0.56 - gpu time: 40.04\n",
            "iter: 032800 - train loss: 0.576 - lr: 3.45e-05 - load time: 0.03 - gpu time: 40.91\n",
            "iter: 033000 - train loss: 0.568 - lr: 3.44e-05 - load time: 0.03 - gpu time: 39.45\n",
            "iter: 033000 - valid loss: 0.627 - acc full seq: 0.9549 - acc per char: 0.9830\n",
            "iter: 033200 - train loss: 0.567 - lr: 3.43e-05 - load time: 0.52 - gpu time: 40.24\n",
            "iter: 033400 - train loss: 0.575 - lr: 3.42e-05 - load time: 0.03 - gpu time: 40.04\n",
            "iter: 033600 - train loss: 0.565 - lr: 3.41e-05 - load time: 0.03 - gpu time: 39.37\n",
            "iter: 033800 - train loss: 0.566 - lr: 3.40e-05 - load time: 0.48 - gpu time: 39.22\n",
            "iter: 034000 - train loss: 0.571 - lr: 3.39e-05 - load time: 0.03 - gpu time: 40.68\n",
            "iter: 034200 - train loss: 0.570 - lr: 3.38e-05 - load time: 0.55 - gpu time: 39.54\n",
            "iter: 034400 - train loss: 0.569 - lr: 3.37e-05 - load time: 0.03 - gpu time: 39.21\n",
            "iter: 034600 - train loss: 0.572 - lr: 3.36e-05 - load time: 0.03 - gpu time: 41.58\n",
            "iter: 034800 - train loss: 0.569 - lr: 3.35e-05 - load time: 0.56 - gpu time: 39.99\n",
            "iter: 035000 - train loss: 0.572 - lr: 3.34e-05 - load time: 0.03 - gpu time: 39.94\n",
            "iter: 035200 - train loss: 0.567 - lr: 3.33e-05 - load time: 0.54 - gpu time: 39.39\n",
            "iter: 035400 - train loss: 0.567 - lr: 3.32e-05 - load time: 0.03 - gpu time: 40.56\n",
            "iter: 035600 - train loss: 0.577 - lr: 3.31e-05 - load time: 0.03 - gpu time: 40.42\n",
            "iter: 035800 - train loss: 0.573 - lr: 3.30e-05 - load time: 0.57 - gpu time: 39.03\n",
            "iter: 036000 - train loss: 0.570 - lr: 3.29e-05 - load time: 0.03 - gpu time: 40.46\n",
            "iter: 036000 - valid loss: 0.627 - acc full seq: 0.9570 - acc per char: 0.9833\n",
            "iter: 036200 - train loss: 0.571 - lr: 3.28e-05 - load time: 0.56 - gpu time: 40.55\n",
            "iter: 036400 - train loss: 0.574 - lr: 3.28e-05 - load time: 0.03 - gpu time: 41.14\n",
            "iter: 036600 - train loss: 0.567 - lr: 3.27e-05 - load time: 0.03 - gpu time: 40.36\n",
            "iter: 036800 - train loss: 0.562 - lr: 3.26e-05 - load time: 0.56 - gpu time: 38.44\n",
            "iter: 037000 - train loss: 0.571 - lr: 3.25e-05 - load time: 0.03 - gpu time: 40.57\n",
            "iter: 037200 - train loss: 0.571 - lr: 3.24e-05 - load time: 0.03 - gpu time: 39.10\n",
            "iter: 037400 - train loss: 0.568 - lr: 3.23e-05 - load time: 0.48 - gpu time: 40.04\n",
            "iter: 037600 - train loss: 0.570 - lr: 3.22e-05 - load time: 0.03 - gpu time: 40.45\n",
            "iter: 037800 - train loss: 0.569 - lr: 3.21e-05 - load time: 0.49 - gpu time: 40.40\n",
            "iter: 038000 - train loss: 0.572 - lr: 3.21e-05 - load time: 0.03 - gpu time: 39.81\n",
            "iter: 038200 - train loss: 0.567 - lr: 3.20e-05 - load time: 0.03 - gpu time: 40.25\n",
            "iter: 038400 - train loss: 0.565 - lr: 3.19e-05 - load time: 0.57 - gpu time: 39.25\n",
            "iter: 038600 - train loss: 0.570 - lr: 3.18e-05 - load time: 0.03 - gpu time: 40.05\n",
            "iter: 038800 - train loss: 0.567 - lr: 3.17e-05 - load time: 0.61 - gpu time: 40.34\n",
            "iter: 039000 - train loss: 0.568 - lr: 3.16e-05 - load time: 0.03 - gpu time: 40.13\n",
            "iter: 039000 - valid loss: 0.631 - acc full seq: 0.9565 - acc per char: 0.9835\n",
            "iter: 039200 - train loss: 0.568 - lr: 3.16e-05 - load time: 0.03 - gpu time: 40.13\n",
            "iter: 039400 - train loss: 0.567 - lr: 3.15e-05 - load time: 0.50 - gpu time: 39.06\n",
            "iter: 039600 - train loss: 0.575 - lr: 3.14e-05 - load time: 0.03 - gpu time: 40.98\n",
            "iter: 039800 - train loss: 0.562 - lr: 3.13e-05 - load time: 0.03 - gpu time: 39.10\n",
            "iter: 040000 - train loss: 0.565 - lr: 3.13e-05 - load time: 0.57 - gpu time: 38.82\n",
            "iter: 040200 - train loss: 0.569 - lr: 3.12e-05 - load time: 0.03 - gpu time: 41.06\n",
            "iter: 040400 - train loss: 0.573 - lr: 3.11e-05 - load time: 0.61 - gpu time: 41.23\n",
            "iter: 040600 - train loss: 0.567 - lr: 3.10e-05 - load time: 0.03 - gpu time: 39.57\n",
            "iter: 040800 - train loss: 0.571 - lr: 3.09e-05 - load time: 0.03 - gpu time: 39.53\n",
            "iter: 041000 - train loss: 0.569 - lr: 3.09e-05 - load time: 0.49 - gpu time: 38.78\n",
            "iter: 041200 - train loss: 0.569 - lr: 3.08e-05 - load time: 0.03 - gpu time: 40.04\n",
            "iter: 041400 - train loss: 0.571 - lr: 3.07e-05 - load time: 0.56 - gpu time: 39.95\n",
            "iter: 041600 - train loss: 0.570 - lr: 3.06e-05 - load time: 0.03 - gpu time: 39.65\n",
            "iter: 041800 - train loss: 0.568 - lr: 3.06e-05 - load time: 0.03 - gpu time: 40.44\n",
            "iter: 042000 - train loss: 0.564 - lr: 3.05e-05 - load time: 0.52 - gpu time: 39.16\n",
            "iter: 042000 - valid loss: 0.630 - acc full seq: 0.9547 - acc per char: 0.9829\n",
            "iter: 042200 - train loss: 0.574 - lr: 3.04e-05 - load time: 0.03 - gpu time: 40.27\n",
            "iter: 042400 - train loss: 0.570 - lr: 3.04e-05 - load time: 0.45 - gpu time: 39.35\n",
            "iter: 042600 - train loss: 0.569 - lr: 3.03e-05 - load time: 0.03 - gpu time: 39.84\n",
            "iter: 042800 - train loss: 0.566 - lr: 3.02e-05 - load time: 0.03 - gpu time: 39.40\n",
            "iter: 043000 - train loss: 0.568 - lr: 3.01e-05 - load time: 0.49 - gpu time: 40.25\n",
            "iter: 043200 - train loss: 0.568 - lr: 3.01e-05 - load time: 0.03 - gpu time: 39.40\n",
            "iter: 043400 - train loss: 0.575 - lr: 3.00e-05 - load time: 0.03 - gpu time: 40.76\n",
            "iter: 043600 - train loss: 0.571 - lr: 2.99e-05 - load time: 0.56 - gpu time: 38.38\n",
            "iter: 043800 - train loss: 0.569 - lr: 2.99e-05 - load time: 0.03 - gpu time: 40.84\n",
            "iter: 044000 - train loss: 0.566 - lr: 2.98e-05 - load time: 0.54 - gpu time: 40.09\n",
            "iter: 044200 - train loss: 0.571 - lr: 2.97e-05 - load time: 0.03 - gpu time: 39.97\n",
            "iter: 044400 - train loss: 0.563 - lr: 2.97e-05 - load time: 0.03 - gpu time: 39.42\n",
            "iter: 044600 - train loss: 0.568 - lr: 2.96e-05 - load time: 0.53 - gpu time: 38.69\n",
            "iter: 044800 - train loss: 0.568 - lr: 2.95e-05 - load time: 0.03 - gpu time: 39.35\n",
            "iter: 045000 - train loss: 0.570 - lr: 2.95e-05 - load time: 0.51 - gpu time: 40.26\n",
            "iter: 045000 - valid loss: 0.629 - acc full seq: 0.9550 - acc per char: 0.9824\n",
            "iter: 045200 - train loss: 0.569 - lr: 2.94e-05 - load time: 0.03 - gpu time: 40.27\n",
            "iter: 045400 - train loss: 0.567 - lr: 2.93e-05 - load time: 0.03 - gpu time: 40.75\n",
            "iter: 045600 - train loss: 0.566 - lr: 2.93e-05 - load time: 0.54 - gpu time: 38.90\n",
            "iter: 045800 - train loss: 0.564 - lr: 2.92e-05 - load time: 0.03 - gpu time: 40.44\n",
            "iter: 046000 - train loss: 0.573 - lr: 2.91e-05 - load time: 0.04 - gpu time: 39.83\n",
            "iter: 046200 - train loss: 0.570 - lr: 2.91e-05 - load time: 0.53 - gpu time: 40.25\n",
            "iter: 046400 - train loss: 0.564 - lr: 2.90e-05 - load time: 0.03 - gpu time: 38.89\n",
            "iter: 046600 - train loss: 0.571 - lr: 2.90e-05 - load time: 0.42 - gpu time: 39.58\n",
            "iter: 046800 - train loss: 0.567 - lr: 2.89e-05 - load time: 0.03 - gpu time: 40.02\n",
            "iter: 047000 - train loss: 0.570 - lr: 2.88e-05 - load time: 0.03 - gpu time: 40.77\n",
            "iter: 047200 - train loss: 0.569 - lr: 2.88e-05 - load time: 0.57 - gpu time: 38.98\n",
            "iter: 047400 - train loss: 0.565 - lr: 2.87e-05 - load time: 0.03 - gpu time: 40.06\n",
            "iter: 047600 - train loss: 0.570 - lr: 2.86e-05 - load time: 0.46 - gpu time: 39.52\n",
            "iter: 047800 - train loss: 0.568 - lr: 2.86e-05 - load time: 0.03 - gpu time: 40.04\n",
            "iter: 048000 - train loss: 0.565 - lr: 2.85e-05 - load time: 0.03 - gpu time: 40.31\n",
            "iter: 048000 - valid loss: 0.632 - acc full seq: 0.9562 - acc per char: 0.9827\n",
            "iter: 048200 - train loss: 0.572 - lr: 2.85e-05 - load time: 0.56 - gpu time: 40.37\n",
            "iter: 048400 - train loss: 0.564 - lr: 2.84e-05 - load time: 0.03 - gpu time: 39.56\n",
            "iter: 048600 - train loss: 0.567 - lr: 2.84e-05 - load time: 0.54 - gpu time: 39.47\n",
            "iter: 048800 - train loss: 0.568 - lr: 2.83e-05 - load time: 0.03 - gpu time: 39.25\n",
            "iter: 049000 - train loss: 0.567 - lr: 2.82e-05 - load time: 0.03 - gpu time: 39.25\n",
            "iter: 049200 - train loss: 0.569 - lr: 2.82e-05 - load time: 0.56 - gpu time: 40.32\n",
            "iter: 049400 - train loss: 0.568 - lr: 2.81e-05 - load time: 0.03 - gpu time: 40.65\n",
            "iter: 049600 - train loss: 0.563 - lr: 2.81e-05 - load time: 0.03 - gpu time: 39.60\n",
            "iter: 049800 - train loss: 0.565 - lr: 2.80e-05 - load time: 0.54 - gpu time: 39.88\n",
            "iter: 050000 - train loss: 0.565 - lr: 2.80e-05 - load time: 0.03 - gpu time: 39.65\n"
          ],
          "name": "stdout"
        }
      ]
    }
  ]
}